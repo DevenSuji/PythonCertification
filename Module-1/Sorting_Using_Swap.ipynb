{
 "metadata": {
  "language_info": {
   "codemirror_mode": {
    "name": "ipython",
    "version": 3
   },
   "file_extension": ".py",
   "mimetype": "text/x-python",
   "name": "python",
   "nbconvert_exporter": "python",
   "pygments_lexer": "ipython3",
   "version": "3.9.2-final"
  },
  "orig_nbformat": 2,
  "kernelspec": {
   "name": "python3",
   "display_name": "Python 3.9.2 64-bit",
   "metadata": {
    "interpreter": {
     "hash": "397704579725e15f5c7cb49fe5f0341eb7531c82d19f2c29d197e8b64ab5776b"
    }
   }
  }
 },
 "nbformat": 4,
 "nbformat_minor": 2,
 "cells": [
  {
   "source": [
    "# Swapping"
   ],
   "cell_type": "markdown",
   "metadata": {}
  },
  {
   "cell_type": "code",
   "execution_count": null,
   "metadata": {},
   "outputs": [],
   "source": [
    "l = [1, 2, 3, 4, 5]\n",
    "print(l)\n",
    "\n",
    "l[0], l[4] = l[4], l[0]\n",
    "print(l)\n",
    "l[1], l[3] = l[3], l[1]\n",
    "print(l)"
   ]
  },
  {
   "source": [
    "# Sorting Using Swapping"
   ],
   "cell_type": "markdown",
   "metadata": {}
  },
  {
   "cell_type": "code",
   "execution_count": 2,
   "metadata": {},
   "outputs": [
    {
     "output_type": "stream",
     "name": "stdout",
     "text": [
      "[1, 3, 4, 5, 6, 7, 9]\n"
     ]
    }
   ],
   "source": [
    "l = [3, 6, 1, 7, 4, 9, 5]\n",
    "\n",
    "swapped = True # Just to enter the while loop\n",
    "\n",
    "while swapped:\n",
    "    swapped = False # no swaps so far\n",
    "    for i in range(len(l) - 1):\n",
    "        if l[i] > l[i + 1]:\n",
    "            swapped = True # swap has to occur here as per the if condition.\n",
    "            l[i], l[i + 1] = l[i + 1], l[i]\n",
    "print(l)"
   ]
  },
  {
   "source": [
    "# Sorting using sort()\n",
    "Sorts the list permanently"
   ],
   "cell_type": "markdown",
   "metadata": {}
  },
  {
   "cell_type": "code",
   "execution_count": 3,
   "metadata": {},
   "outputs": [
    {
     "output_type": "stream",
     "name": "stdout",
     "text": [
      "[1, 3, 4, 5, 6, 7, 9]\n"
     ]
    }
   ],
   "source": [
    "l = [3, 6, 1, 7, 4, 9, 5]\n",
    "l.sort()\n",
    "print(l)"
   ]
  },
  {
   "source": [
    "# Sorting using sorted() method.\n",
    "Sorts the object just for one use case."
   ],
   "cell_type": "markdown",
   "metadata": {}
  },
  {
   "cell_type": "code",
   "execution_count": 5,
   "metadata": {},
   "outputs": [
    {
     "output_type": "stream",
     "name": "stdout",
     "text": [
      "[1, 3, 4, 5, 6, 7, 9]\n[3, 6, 1, 7, 4, 9, 5]\n"
     ]
    }
   ],
   "source": [
    "l = [3, 6, 1, 7, 4, 9, 5]\n",
    "print(sorted(l))\n",
    "print(l)"
   ]
  },
  {
   "source": [
    "# Reversing the list"
   ],
   "cell_type": "markdown",
   "metadata": {}
  },
  {
   "cell_type": "code",
   "execution_count": 6,
   "metadata": {},
   "outputs": [
    {
     "output_type": "stream",
     "name": "stdout",
     "text": [
      "[3, 6, 1, 7, 4, 9, 5]\n[5, 9, 4, 7, 1, 6, 3]\n"
     ]
    }
   ],
   "source": [
    "l = [3, 6, 1, 7, 4, 9, 5]\n",
    "print(l)\n",
    "l.reverse()\n",
    "print(l)"
   ]
  },
  {
   "cell_type": "code",
   "execution_count": 7,
   "metadata": {},
   "outputs": [
    {
     "output_type": "stream",
     "name": "stdout",
     "text": [
      "[1]\n"
     ]
    }
   ],
   "source": [
    "list_1 = [1]\n",
    "list_2 = list_1[:]\n",
    "list_1[0] = 2\n",
    "print(list_2)"
   ]
  },
  {
   "cell_type": "code",
   "execution_count": 8,
   "metadata": {},
   "outputs": [
    {
     "output_type": "stream",
     "name": "stdout",
     "text": [
      "[]\n"
     ]
    }
   ],
   "source": [
    "my_list = [10, 8, 6, 4, 2]\n",
    "new_list = my_list[-1:1]\n",
    "print(new_list)"
   ]
  }
 ]
}