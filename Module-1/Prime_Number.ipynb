{
 "metadata": {
  "language_info": {
   "codemirror_mode": {
    "name": "ipython",
    "version": 3
   },
   "file_extension": ".py",
   "mimetype": "text/x-python",
   "name": "python",
   "nbconvert_exporter": "python",
   "pygments_lexer": "ipython3",
   "version": "3.9.2-final"
  },
  "orig_nbformat": 2,
  "kernelspec": {
   "name": "python3",
   "display_name": "Python 3.9.2 64-bit",
   "metadata": {
    "interpreter": {
     "hash": "397704579725e15f5c7cb49fe5f0341eb7531c82d19f2c29d197e8b64ab5776b"
    }
   }
  }
 },
 "nbformat": 4,
 "nbformat_minor": 2,
 "cells": [
  {
   "cell_type": "code",
   "execution_count": null,
   "metadata": {
    "tags": []
   },
   "outputs": [],
   "source": [
    "def is_prime(num):\n",
    "    i = 2\n",
    "    while i <= int(num/2):\n",
    "        if num % i == 0:\n",
    "            return False\n",
    "        i += 1\n",
    "    else:\n",
    "        return True\n",
    "\n",
    "for i in range(1, 100):\n",
    "\tif is_prime(i + 1):\n",
    "\t\t\tprint(i + 1, end=\" \")\n",
    "print()"
   ]
  },
  {
   "cell_type": "code",
   "execution_count": 4,
   "metadata": {},
   "outputs": [
    {
     "output_type": "stream",
     "name": "stdout",
     "text": [
      "60.31143162393162\n31.36194444444444\n23.52145833333333\n3.9007393587617467\n7.490910297239916\n10.009131205673757\n"
     ]
    }
   ],
   "source": [
    "def liters_100km_to_miles_gallon(liters):\n",
    "    miles = 100 * 1000 / 1609.344\n",
    "    gallons = liters / 3.785411784\n",
    "    return miles / gallons\n",
    "\n",
    "def miles_gallon_to_liters_100km(miles):\n",
    "    liters = 3.785411784\n",
    "    kilometers = miles * 1609.344 / 1000\n",
    "    km100 = kilometers / 100\n",
    "    return liters / km100\n",
    "\n",
    "print(liters_100km_to_miles_gallon(3.9))\n",
    "print(liters_100km_to_miles_gallon(7.5))\n",
    "print(liters_100km_to_miles_gallon(10.))\n",
    "print(miles_gallon_to_liters_100km(60.3))\n",
    "print(miles_gallon_to_liters_100km(31.4))\n",
    "print(miles_gallon_to_liters_100km(23.5))\n"
   ]
  }
 ]
}