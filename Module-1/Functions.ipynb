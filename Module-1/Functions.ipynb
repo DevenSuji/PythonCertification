{
 "metadata": {
  "language_info": {
   "codemirror_mode": {
    "name": "ipython",
    "version": 3
   },
   "file_extension": ".py",
   "mimetype": "text/x-python",
   "name": "python",
   "nbconvert_exporter": "python",
   "pygments_lexer": "ipython3",
   "version": "3.9.2-final"
  },
  "orig_nbformat": 2,
  "kernelspec": {
   "name": "python3",
   "display_name": "Python 3.9.2 64-bit",
   "metadata": {
    "interpreter": {
     "hash": "397704579725e15f5c7cb49fe5f0341eb7531c82d19f2c29d197e8b64ab5776b"
    }
   }
  }
 },
 "nbformat": 4,
 "nbformat_minor": 2,
 "cells": [
  {
   "cell_type": "code",
   "execution_count": 25,
   "metadata": {},
   "outputs": [
    {
     "output_type": "execute_result",
     "data": {
      "text/plain": [
       "True"
      ]
     },
     "metadata": {},
     "execution_count": 25
    }
   ],
   "source": [
    "def is_year_leap(year):\n",
    "    if year % 4 == 0:\n",
    "        if year % 100 != 0:\n",
    "            return True\n",
    "        else:\n",
    "            if year % 400 == 0:\n",
    "                return True\n",
    "            else:\n",
    "                return False\n",
    "    else:\n",
    "        return False\n",
    "\n",
    "is_year_leap(2004)\n",
    "    "
   ]
  },
  {
   "cell_type": "code",
   "execution_count": 26,
   "metadata": {},
   "outputs": [
    {
     "output_type": "execute_result",
     "data": {
      "text/plain": [
       "31"
      ]
     },
     "metadata": {},
     "execution_count": 26
    }
   ],
   "source": [
    "def days_in_month(year, month): \n",
    "    if is_year_leap(year) and month == 2:\n",
    "        number_of_days = 29\n",
    "    elif not is_year_leap(year) and month == 2:\n",
    "        number_of_days = 28\n",
    "    elif month in [1, 3, 5, 7, 8, 10, 12]:\n",
    "        number_of_days = 31\n",
    "    else:\n",
    "        number_of_days = 30\n",
    "    return number_of_days\n",
    "    \n",
    "days_in_month(2001, 10)\n",
    "\n"
   ]
  },
  {
   "cell_type": "code",
   "execution_count": 27,
   "metadata": {},
   "outputs": [
    {
     "output_type": "stream",
     "name": "stdout",
     "text": [
      "366\n"
     ]
    }
   ],
   "source": [
    "def day_of_year(year, month, day):\n",
    "    number_of_days = 0\n",
    "    for i in range(1, month + 1):\n",
    "        #print(f\"Days in month {i} = {days_in_month(year, i)}\")\n",
    "        number_of_days += days_in_month(year, i)\n",
    "    return number_of_days\n",
    "\n",
    "print(day_of_year(2000, 12, 31))\n"
   ]
  }
 ]
}