{
 "metadata": {
  "language_info": {
   "codemirror_mode": {
    "name": "ipython",
    "version": 3
   },
   "file_extension": ".py",
   "mimetype": "text/x-python",
   "name": "python",
   "nbconvert_exporter": "python",
   "pygments_lexer": "ipython3",
   "version": "3.9.2-final"
  },
  "orig_nbformat": 2,
  "kernelspec": {
   "name": "python3",
   "display_name": "Python 3.9.2 64-bit",
   "metadata": {
    "interpreter": {
     "hash": "397704579725e15f5c7cb49fe5f0341eb7531c82d19f2c29d197e8b64ab5776b"
    }
   }
  }
 },
 "nbformat": 4,
 "nbformat_minor": 2,
 "cells": [
  {
   "source": [
    "# Bitwise Operation"
   ],
   "cell_type": "markdown",
   "metadata": {}
  },
  {
   "source": [
    "## ~ : Complement Operator\n",
    "\n",
    "It turns 1 to 0 and 0 to 1.\n",
    "\n",
    "In the below code why is the output of ~12 -13?\n",
    "\n",
    "Let't grab the binary value of 12 which is 1100.\n",
    "Adding ZEROs to all the 8 bits to fill it the binary value becomes 00001100.\n",
    "\n",
    "Now as per the Complement Operator it turns every bit to it's opposite bit, which means 1 is changed to 0 and 0 is changed to 1.\n",
    "\n",
    "Now let's apply the Complement to the binary value of 12.\n",
    "We get 11110011 after we filp the bits.\n",
    "Now what is the integer value of binary number 11110011?\n"
   ],
   "cell_type": "markdown",
   "metadata": {}
  },
  {
   "cell_type": "code",
   "execution_count": 1,
   "metadata": {},
   "outputs": [
    {
     "output_type": "execute_result",
     "data": {
      "text/plain": [
       "-13"
      ]
     },
     "metadata": {},
     "execution_count": 1
    }
   ],
   "source": [
    "~12"
   ]
  },
  {
   "cell_type": "code",
   "execution_count": 2,
   "metadata": {},
   "outputs": [
    {
     "output_type": "execute_result",
     "data": {
      "text/plain": [
       "'0b1100'"
      ]
     },
     "metadata": {},
     "execution_count": 2
    }
   ],
   "source": [
    "bin(12)"
   ]
  }
 ]
}