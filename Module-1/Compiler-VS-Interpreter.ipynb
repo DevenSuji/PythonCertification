{
 "metadata": {
  "language_info": {
   "codemirror_mode": {
    "name": "ipython",
    "version": 3
   },
   "file_extension": ".py",
   "mimetype": "text/x-python",
   "name": "python",
   "nbconvert_exporter": "python",
   "pygments_lexer": "ipython3",
   "version": 3
  },
  "orig_nbformat": 2
 },
 "nbformat": 4,
 "nbformat_minor": 2,
 "cells": [
  {
   "source": [
    "# Compiler Vs Interpreter\n",
    "\n",
    "There are two different ways of transforming a program from a high-level programming language into machine language:  \n",
    "\n",
    "<b><u>COMPILATION:</u></b> The source program is translated once (however, this act must be repeated each time you modify the source code) by getting a file (e.g., an .exe file if the code is intended to be run under MS Windows) containing the machine code; now you can distribute the file worldwide; the program that performs this translation is called a compiler or translator.  \n",
    "\n",
    "<b><u>INTERPRETATION:</u></b> You (or any user of the code) can translate the source program each time it has to be run; the program performing this kind of transformation is called an interpreter, as it interprets the code every time it is intended to be executed; it also means that you cannot just distribute the source code as-is, because the end-user also needs the interpreter to execute it.\n",
    "\n",
    "Due to some very fundamental reasons, a particular high-level programming language is designed to fall into one of these two categories.\n",
    "\n",
    "There are very few languages that can be both compiled and interpreted. Usually, a programming language is projected with this factor in its constructors' minds - will it be compiled or interpreted?"
   ],
   "cell_type": "markdown",
   "metadata": {}
  },
  {
   "source": [
    "## What does the interpreter actually do?\n",
    "\n",
    "Let's assume once more that you have written a program. Now, it exists as a computer file: a computer program is actually a piece of text, so the source code is usually placed in text files.\n",
    "\n",
    "Note: it has to be pure text, without any decorations like different fonts, colors, embedded images or other media. Now you have to invoke the interpreter and let it read your source file.\n",
    "\n",
    "The interpreter reads the source code in a way that is common in Western culture: from top to bottom and from left to right. There are some exceptions - they'll be covered later in the course.\n",
    "\n",
    "First of all, the interpreter checks if all subsequent lines are correct (using the four aspects covered earlier).\n",
    "\n",
    "If the compiler finds an error, it finishes its work immediately. The only result in this case is an error message.\n",
    "\n",
    "The interpreter will inform you where the error is located and what caused it. However, these messages may be misleading, as the interpreter isn't able to follow your exact intentions, and may detect errors at some distance from their real causes.\n",
    "\n",
    "For example, if you try to use an entity of an unknown name, it will cause an error, but the error will be discovered in the place where it tries to use the entity, not where the new entity's name was introduced.\n",
    "\n",
    "In other words, the actual reason is usually located a little earlier in the code, e.g., in the place where you had to inform the interpreter that you were going to use the entity of the name.  \n",
    "\n",
    "If the line looks good, the interpreter tries to execute it (note: each line is usually executed separately, so the trio \"read-check-execute\" can be repeated many times - more times than the actual number of lines in the source file, as some parts of the code may be executed more than once).\n",
    "\n",
    "It is also possible that a significant part of the code may be executed successfully before the interpreter finds an error. This is normal behavior in this execution model.\n",
    "\n",
    "You may ask now: which is better? The \"compiling\" model or the \"interpreting\" model? There is no obvious answer. If there had been, one of these models would have ceased to exist a long time ago. Both of them have their advantages and their disadvantages."
   ],
   "cell_type": "markdown",
   "metadata": {}
  },
  {
   "cell_type": "code",
   "execution_count": null,
   "metadata": {},
   "outputs": [],
   "source": []
  }
 ]
}